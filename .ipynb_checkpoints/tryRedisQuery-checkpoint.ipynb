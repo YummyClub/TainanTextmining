{
 "cells": [
  {
   "cell_type": "code",
   "execution_count": null,
   "metadata": {},
   "outputs": [],
   "source": [
    "!pip install redis"
   ]
  },
  {
   "cell_type": "code",
   "execution_count": null,
   "metadata": {
    "collapsed": true
   },
   "outputs": [],
   "source": [
    "import redis\n",
    "import json \n",
    "import numpy as np\n",
    "import pandas as pd\n",
    "import pprint\n",
    "from collections import Counter\n",
    "#使用redis"
   ]
  },
  {
   "cell_type": "code",
   "execution_count": null,
   "metadata": {
    "collapsed": true
   },
   "outputs": [],
   "source": [
    "r = redis.StrictRedis(host='redis', port=6379, db=0)\n",
    "#使用連線 ip='redis' port=6379 db=0"
   ]
  },
  {
   "cell_type": "code",
   "execution_count": null,
   "metadata": {
    "collapsed": true
   },
   "outputs": [],
   "source": [
    "with open('./data/bigtable_1.3.json') as f:\n",
    "    bigTable=json.load(f)\n",
    "with open('./data/final_tainan.json') as t:\n",
    "    tainanData=json.load(t)\n",
    "# with open('./jsondata/TainanGoodDien_1.0.json') as t:\n",
    "#     goodDien=json.load(t)\n",
    "#匯入各種資料\n",
    "with open('./dict/MyDict.csv',encoding='big5') as t:\n",
    "    mydict=t.read()\n",
    "#自己的字典for同義字"
   ]
  },
  {
   "cell_type": "code",
   "execution_count": null,
   "metadata": {},
   "outputs": [],
   "source": [
    "synonyms=[{word:line.split(\",\")[1] for word in line.split(\",\")[1:]} for line in mydict.split(\"\\n\") if line.split(\",\")[0]!=\"\"]\n",
    "pinsynonymsdict={}\n",
    "for synonym in synonyms:\n",
    "    pinsynonymsdict.update(synonym)\n",
    "del pinsynonymsdict[\"\"]\n",
    "\n",
    "pinsynonymsdict['飲料']='飲料專賣店'\n",
    "pinsynonymsdict['喝的']='飲料專賣店'\n",
    "pinsynonymsdict['涼的']='飲料專賣店'\n",
    "\n",
    "pinsynonymsdict['綜子']='肉粽'\n",
    "\n",
    "pinsynonymsdict['冰品']='剉冰、豆花'\n",
    "pinsynonymsdict['冰']='剉冰、豆花'\n",
    "pinsynonymsdict['豆花']='剉冰、豆花'\n",
    "pinsynonymsdict['剉冰']='剉冰、豆花'\n",
    "\n",
    "pinsynonymsdict['日式']='綜合日式料理'\n",
    "\n",
    "# pinsynonymsdict['生魚片']='生魚片、壽司專賣'\n",
    "# pinsynonymsdict['壽司']='生魚片、壽司專賣'\n",
    "\n",
    "pinsynonymsdict['燒烤']='炭烤串燒'\n",
    "pinsynonymsdict['串燒']='炭烤串燒'\n",
    "pinsynonymsdict['串烤']='炭烤串燒'\n",
    "\n",
    "pinsynonymsdict['下午茶']='西點烘焙、麵包'\n",
    "pinsynonymsdict['點心']='西點烘焙、麵包'\n",
    "pinsynonymsdict['甜點']='西點烘焙、麵包'\n",
    "\n",
    "pinsynonymsdict\n",
    "#取得同義字字典"
   ]
  },
  {
   "cell_type": "code",
   "execution_count": null,
   "metadata": {
    "scrolled": true
   },
   "outputs": [],
   "source": [
    "for i in r.keys():\n",
    "    r.delete(i)\n",
    "for word in pinsynonymsdict:\n",
    "    if pinsynonymsdict[word]=='否食物美味':\n",
    "        pinsynonymsdict[word]='食物不好吃'\n",
    "    elif pinsynonymsdict[word]=='否划算':\n",
    "        pinsynonymsdict[word]='價格較高昂'\n",
    "    elif pinsynonymsdict[word]=='否環境好':\n",
    "        pinsynonymsdict[word]='環境比較不好'\n",
    "    elif pinsynonymsdict[word]=='否服務好':\n",
    "        pinsynonymsdict[word]='服務較差'\n",
    "    elif pinsynonymsdict[word]=='否其他正面情緒':\n",
    "        pinsynonymsdict[word]='評論有些負面情緒詞'\n",
    "#將否情緒改成tag用詞\n",
    "\n",
    "\n",
    "pinsynonymsdict"
   ]
  },
  {
   "cell_type": "code",
   "execution_count": null,
   "metadata": {},
   "outputs": [],
   "source": [
    "dienscore={dien['name']:round(dien['score'],2) for dien in bigTable}\n",
    "dienscore\n",
    "#kv >店:分數 排序用"
   ]
  },
  {
   "cell_type": "code",
   "execution_count": null,
   "metadata": {},
   "outputs": [],
   "source": [
    "\n",
    "dientag={dien['name']:set(dien['tags']) for dien in bigTable}\n",
    "#kv >店:tagset\n",
    "dientag"
   ]
  },
  {
   "cell_type": "code",
   "execution_count": null,
   "metadata": {},
   "outputs": [],
   "source": [
    "pipin=[('食物美味','食物不好吃',\"非常好吃\",'非常不好吃'),('划算','價格較高昂',\"非常便宜\",'非常貴')\n",
    "       ,('環境好','環境比較不好',\"環境超棒\",'環境很差'),('服務好','服務較差',\"服務一級棒\",'服務很差')\n",
    "       ,('其他正面情緒','評論有些負面情緒詞',\"網路評論正面情緒非常多\",'網路評論負面情緒很多')]\n",
    "for dien in dientag:\n",
    "    for pin in pipin:\n",
    "        if pin[2] in dientag[dien]:\n",
    "            dientag[dien].add(pin[0])\n",
    "        if pin[3] in dientag[dien]:\n",
    "            dientag[dien].add(pin[1])\n",
    "#將包含的情緒意義加入querytag\n",
    "dientag"
   ]
  },
  {
   "cell_type": "code",
   "execution_count": null,
   "metadata": {},
   "outputs": [],
   "source": [
    "alltag=set()\n",
    "for dien in dientag:\n",
    "    alltag.update(dientag[dien])\n",
    "alltag.remove(\"\")\n",
    "alltag\n",
    "#找出所有tag"
   ]
  },
  {
   "cell_type": "code",
   "execution_count": null,
   "metadata": {
    "collapsed": true
   },
   "outputs": [],
   "source": [
    "table_df=pd.DataFrame(bigTable)"
   ]
  },
  {
   "cell_type": "code",
   "execution_count": null,
   "metadata": {},
   "outputs": [],
   "source": [
    "pprint.pprint(dientag)"
   ]
  },
  {
   "cell_type": "code",
   "execution_count": null,
   "metadata": {},
   "outputs": [],
   "source": [
    "a=table_df.tags\n",
    "tagdien=[]\n",
    "for i in a:\n",
    "    tagdien+=i\n",
    "tagdien={tag:set() for tag in set(alltag)}\n",
    "for dien in dientag:\n",
    "    for tag in dientag[dien]:\n",
    "        if tag!=\"\":\n",
    "            tagdien[tag].add(dien)\n",
    "#kv >tag:店set\n",
    "pprint.pprint(tagdien)"
   ]
  },
  {
   "cell_type": "code",
   "execution_count": null,
   "metadata": {},
   "outputs": [],
   "source": [
    "len(tagdien['食物美味'])"
   ]
  },
  {
   "cell_type": "code",
   "execution_count": null,
   "metadata": {
    "collapsed": true
   },
   "outputs": [],
   "source": [
    "#r.ltrim('tutorial-list',0,-1000000)刪除list的方法(最後100000筆)\n",
    "for dien in dientag:\n",
    "    r.ltrim(dien,0,-1000000)\n",
    "for tag in tagdien:\n",
    "    r.ltrim(tag,0,-1000000)\n",
    "#先刪除以免重覆加入\n",
    "    \n",
    "    \n",
    "#將dientag跟tagdien分別加入redislist\n",
    "for dien in dientag:\n",
    "    r.lpush(dien,*dientag[dien])\n",
    "for tag in tagdien:\n",
    "    r.lpush(tag,*tagdien[tag])"
   ]
  },
  {
   "cell_type": "code",
   "execution_count": null,
   "metadata": {
    "scrolled": false
   },
   "outputs": [],
   "source": [
    "#1用屬性找店家\n",
    "querytags=input(\"請輸入想要的屬性(可輸入多個，以空白分開):\")\n",
    "if querytags!=\"\":\n",
    "    dienList=[]\n",
    "    \n",
    "    #將輸入的string變成taglist\n",
    "    for query in set(querytags.split(\" \")):\n",
    "        print(query)\n",
    "        #將情緒同義字對應query\n",
    "        if query in pinsynonymsdict:\n",
    "            query=pinsynonymsdict[query]\n",
    "            \n",
    "        #一個query可以找到一個店家list\n",
    "        if len([i.decode() for i in r.lrange(query,0,10000)])==0:\n",
    "            for tag in alltag:\n",
    "                if query in tag:\n",
    "                    query=tag\n",
    "                    break\n",
    "        print(\"實際tag：\"+query)\n",
    "        if dienList==[]:\n",
    "            dienList =[i.decode() for i in r.lrange(query,0,10000)]\n",
    "        else:\n",
    "        #多個query可以找到不同店家list得交集\n",
    "            dienList = set(dienList) & set([i.decode() for i in r.lrange(query,0,10000)])\n",
    "#     print('屬性搜索項目:')\n",
    "#     print(dienList)\n",
    "\n",
    "#2用店名找店家\n",
    "querydeins=input(\"查店名:\")\n",
    "if querydeins!=\"\":\n",
    "    nameList=[]\n",
    "    for dein in set(querydeins.split(\" \")):\n",
    "        print(dein)\n",
    "        if nameList==[]:\n",
    "            nameList =[j for j in [i.decode() for i in r.keys()]  if dein in j]\n",
    "        else:\n",
    "            nameList = set(nameList) & set([j for j in [i.decode() for i in r.keys()]  if dein in j])\n",
    "#     print('店名搜索項目:')\n",
    "#     print(nameList)\n",
    "    \n",
    "if querytags!=\"\" and querydeins!=\"\":\n",
    "    allquery=set(dienList) & set(nameList)\n",
    "elif querytags!=\"\" and querydeins==\"\":\n",
    "    allquery=set(dienList)\n",
    "elif querytags==\"\" and querydeins!=\"\":\n",
    "    allquery=set(nameList)\n",
    "    \n",
    "print('綜合搜索項目:')\n",
    "#     print(allquery)\n",
    "queryscore=Counter({dien:dienscore[dien] for dien in dienscore if dien in allquery}).most_common(20)\n",
    "pprint.pprint(queryscore)\n"
   ]
  },
  {
   "cell_type": "code",
   "execution_count": null,
   "metadata": {},
   "outputs": [],
   "source": [
    "\n",
    "for i in bigTable:\n",
    "    if i['name'] in dict(queryscore).keys():\n",
    "        print(i['name'])\n",
    "        print(i['style'])\n",
    "        print(i['score'])\n",
    "        print(i['introduction'])\n",
    "        print(i['featurescores'])\n",
    "#         print(i['tags'])\n",
    "        print('-'*50)\n",
    "#         print(i['name'])"
   ]
  },
  {
   "cell_type": "code",
   "execution_count": null,
   "metadata": {
    "collapsed": true
   },
   "outputs": [],
   "source": []
  },
  {
   "cell_type": "code",
   "execution_count": null,
   "metadata": {
    "collapsed": true
   },
   "outputs": [],
   "source": []
  },
  {
   "cell_type": "code",
   "execution_count": null,
   "metadata": {},
   "outputs": [],
   "source": [
    "a=['d', 'c', 'b', 'a', 'MySQL', 'Mangodb', 'Redis', 'MySQL', 'Mangodb', 'Redis',\"笨蛋\"]\n",
    "b=[\"笨蛋\", 'Redis','yayaya']\n",
    "list(set(a) & set(b)) #交集"
   ]
  },
  {
   "cell_type": "code",
   "execution_count": null,
   "metadata": {},
   "outputs": [],
   "source": [
    "list(set(a) | set(b)) #聯集"
   ]
  },
  {
   "cell_type": "code",
   "execution_count": null,
   "metadata": {},
   "outputs": [],
   "source": [
    "#list包函於list2 判斷的方法\n",
    "set(['d', 'c', 'b']) & set(a)==set(['d', 'c', 'b'])"
   ]
  },
  {
   "cell_type": "code",
   "execution_count": null,
   "metadata": {},
   "outputs": [],
   "source": [
    "x='川品鐵板'\n",
    "for i in bigTable:\n",
    "    if x in i[\"name\"]:\n",
    "        print(i['tags'])\n",
    "        print(i['score'])"
   ]
  },
  {
   "cell_type": "code",
   "execution_count": null,
   "metadata": {
    "collapsed": true
   },
   "outputs": [],
   "source": []
  },
  {
   "cell_type": "code",
   "execution_count": null,
   "metadata": {
    "collapsed": true
   },
   "outputs": [],
   "source": []
  },
  {
   "cell_type": "code",
   "execution_count": null,
   "metadata": {
    "collapsed": true
   },
   "outputs": [],
   "source": []
  },
  {
   "cell_type": "code",
   "execution_count": null,
   "metadata": {
    "collapsed": true
   },
   "outputs": [],
   "source": []
  },
  {
   "cell_type": "code",
   "execution_count": null,
   "metadata": {
    "collapsed": true
   },
   "outputs": [],
   "source": []
  },
  {
   "cell_type": "code",
   "execution_count": null,
   "metadata": {
    "collapsed": true
   },
   "outputs": [],
   "source": []
  },
  {
   "cell_type": "code",
   "execution_count": null,
   "metadata": {
    "collapsed": true
   },
   "outputs": [],
   "source": []
  },
  {
   "cell_type": "code",
   "execution_count": null,
   "metadata": {
    "collapsed": true
   },
   "outputs": [],
   "source": []
  },
  {
   "cell_type": "code",
   "execution_count": null,
   "metadata": {
    "collapsed": true
   },
   "outputs": [],
   "source": []
  },
  {
   "cell_type": "code",
   "execution_count": null,
   "metadata": {
    "collapsed": true
   },
   "outputs": [],
   "source": []
  },
  {
   "cell_type": "code",
   "execution_count": null,
   "metadata": {
    "collapsed": true
   },
   "outputs": [],
   "source": []
  },
  {
   "cell_type": "code",
   "execution_count": null,
   "metadata": {
    "collapsed": true
   },
   "outputs": [],
   "source": []
  },
  {
   "cell_type": "code",
   "execution_count": null,
   "metadata": {
    "collapsed": true
   },
   "outputs": [],
   "source": []
  }
 ],
 "metadata": {
  "kernelspec": {
   "display_name": "Python 3",
   "language": "python",
   "name": "python3"
  },
  "language_info": {
   "codemirror_mode": {
    "name": "ipython",
    "version": 3
   },
   "file_extension": ".py",
   "mimetype": "text/x-python",
   "name": "python",
   "nbconvert_exporter": "python",
   "pygments_lexer": "ipython3",
   "version": "3.6.1"
  }
 },
 "nbformat": 4,
 "nbformat_minor": 2
}
